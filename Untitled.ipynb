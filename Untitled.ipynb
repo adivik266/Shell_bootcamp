{
 "cells": [
  {
   "cell_type": "code",
   "execution_count": 1,
   "id": "178cad4c",
   "metadata": {},
   "outputs": [],
   "source": [
    "a=2\n",
    "b=1.3\n",
    "c='hello'"
   ]
  },
  {
   "cell_type": "code",
   "execution_count": 2,
   "id": "d63c986d",
   "metadata": {},
   "outputs": [],
   "source": [
    "# Integers\n",
    "age = 25\n",
    "\n",
    "# Floating-Point Numbers\n",
    "price = 19.99\n",
    "\n",
    "# Strings\n",
    "name = \"Alice\"\n",
    "message = 'Hello, World!'\n",
    "\n",
    "# Boolean Values\n",
    "is_python_fun = True\n",
    "is_learning = False\n",
    "\n",
    "# Lists\n",
    "numbers = [1, 2, 3, 4, 5]\n",
    "fruits = [\"apple\", \"banana\", \"cherry\"]\n",
    "\n",
    "# Tuples\n",
    "coordinates = (3, 4)\n",
    "\n",
    "# Dictionaries\n",
    "person = {\"name\": \"Alice\", \"age\": 30, \"city\": \"New York\"}\n",
    "grades = {\"math\": 92, \"history\": 85, \"science\": 88}\n",
    "\n",
    "# Accessing elements in lists and dictionaries\n",
    "first_number = numbers[0]\n",
    "last_fruit = fruits[-1]\n",
    "name = person[\"name\"]\n",
    "math_grade = grades[\"math\"]\n"
   ]
  },
  {
   "cell_type": "code",
   "execution_count": 1,
   "id": "06be44e3",
   "metadata": {},
   "outputs": [
    {
     "ename": "SyntaxError",
     "evalue": "invalid syntax (4030482474.py, line 13)",
     "output_type": "error",
     "traceback": [
      "\u001b[0;36m  Cell \u001b[0;32mIn[1], line 13\u001b[0;36m\u001b[0m\n\u001b[0;31m    ********************************************\u001b[0m\n\u001b[0m    ^\u001b[0m\n\u001b[0;31mSyntaxError\u001b[0m\u001b[0;31m:\u001b[0m invalid syntax\n"
     ]
    }
   ],
   "source": [
    "# Creating a set using curly braces\n",
    "fruits = {\"apple\", \"banana\", \"cherry\"}\n",
    "\n",
    "# Creating a set using the set() constructor\n",
    "colors = set([\"red\", \"green\", \"blue\"])\n",
    "\n",
    "# Adding elements to a set\n",
    "fruits.add(\"orange\")\n",
    "\n",
    "# Removing elements from a set\n",
    "fruits.remove(\"banana\")\n",
    "\n",
    "********************************************\n",
    "\n",
    "Arithmetic Operator\n",
    "a = 10\n",
    "b = 5\n",
    "\n",
    "# Addition\n",
    "addition = a + b  # Result: 15\n",
    "\n",
    "# Subtraction\n",
    "subtraction = a - b  # Result: 5\n",
    "\n",
    "# Multiplication\n",
    "multiplication = a * b  # Result: 50\n",
    "\n",
    "# Division\n",
    "division = a / b  # Result: 2.0 (Python 3 always returns a float in division)\n",
    "\n",
    "# Modulus (remainder)\n",
    "modulus = a % b  # Result: 0\n",
    "\n",
    "# Exponentiation\n",
    "exponentiation = a ** b  # Result: 100000\n",
    "\n",
    "\n",
    "Membership Operator\n",
    "\n",
    "my_list = [1, 2, 3, 4, 5]\n",
    "\n",
    "# Membership - in operator\n",
    "is_in_list = 3 in my_list  # Result: True\n",
    "\n",
    "# Membership - not in operator\n",
    "is_not_in_list = 6 not in my_list  # Result: True\n"
   ]
  },
  {
   "cell_type": "code",
   "execution_count": 2,
   "id": "7198618f",
   "metadata": {},
   "outputs": [
    {
     "ename": "SyntaxError",
     "evalue": "invalid syntax (292797665.py, line 13)",
     "output_type": "error",
     "traceback": [
      "\u001b[0;36m  Cell \u001b[0;32mIn[2], line 13\u001b[0;36m\u001b[0m\n\u001b[0;31m    Arithmetic Operator\u001b[0m\n\u001b[0m               ^\u001b[0m\n\u001b[0;31mSyntaxError\u001b[0m\u001b[0;31m:\u001b[0m invalid syntax\n"
     ]
    }
   ],
   "source": [
    "# Creating a set using curly braces\n",
    "fruits = {\"apple\", \"banana\", \"cherry\"}\n",
    "\n",
    "# Creating a set using the set() constructor\n",
    "colors = set([\"red\", \"green\", \"blue\"])\n",
    "\n",
    "# Adding elements to a set\n",
    "fruits.add(\"orange\")\n",
    "\n",
    "# Removing elements from a set\n",
    "fruits.remove(\"banana\")\n",
    "\n",
    "Arithmetic Operator\n",
    "a = 10\n",
    "b = 5\n",
    "\n",
    "# Addition\n",
    "addition = a + b  # Result: 15\n",
    "\n",
    "# Subtraction\n",
    "subtraction = a - b  # Result: 5\n",
    "\n",
    "# Multiplication\n",
    "multiplication = a * b  # Result: 50\n",
    "\n",
    "# Division\n",
    "division = a / b  # Result: 2.0 (Python 3 always returns a float in division)\n",
    "\n",
    "# Modulus (remainder)\n",
    "modulus = a % b  # Result: 0\n",
    "\n",
    "# Exponentiation\n",
    "exponentiation = a ** b  # Result: 100000\n",
    "\n",
    "\n",
    "Membership Operator\n",
    "\n",
    "my_list = [1, 2, 3, 4, 5]\n",
    "\n",
    "# Membership - in operator\n",
    "is_in_list = 3 in my_list  # Result: True\n",
    "\n",
    "# Membership - not in operator\n",
    "is_not_in_list = 6 not in my_list  # Result: True\n"
   ]
  },
  {
   "cell_type": "code",
   "execution_count": 3,
   "id": "cf6605ca",
   "metadata": {},
   "outputs": [],
   "source": [
    "# Creating a set using curly braces\n",
    "fruits = {\"apple\", \"banana\", \"cherry\"}\n",
    "\n",
    "# Creating a set using the set() constructor\n",
    "colors = set([\"red\", \"green\", \"blue\"])\n",
    "\n",
    "# Adding elements to a set\n",
    "fruits.add(\"orange\")\n",
    "\n",
    "# Removing elements from a set\n",
    "fruits.remove(\"banana\")\n",
    "\n",
    "\n",
    "\n",
    "#Arithmetic Operator\n",
    "a = 10\n",
    "b = 5\n",
    "\n",
    "# Addition\n",
    "addition = a + b  # Result: 15\n",
    "\n",
    "# Subtraction\n",
    "subtraction = a - b  # Result: 5\n",
    "\n",
    "# Multiplication\n",
    "multiplication = a * b  # Result: 50\n",
    "\n",
    "# Division\n",
    "division = a / b  # Result: 2.0 (Python 3 always returns a float in division)\n",
    "\n",
    "# Modulus (remainder)\n",
    "modulus = a % b  # Result: 0\n",
    "\n",
    "# Exponentiation\n",
    "exponentiation = a ** b  # Result: 100000\n",
    "\n",
    "\n",
    "#Membership Operator\n",
    "\n",
    "my_list = [1, 2, 3, 4, 5]\n",
    "\n",
    "# Membership - in operator\n",
    "is_in_list = 3 in my_list  # Result: True\n",
    "\n",
    "# Membership - not in operator\n",
    "is_not_in_list = 6 not in my_list  # Result: True\n"
   ]
  },
  {
   "cell_type": "code",
   "execution_count": 4,
   "id": "0f17c196",
   "metadata": {},
   "outputs": [
    {
     "ename": "TypeError",
     "evalue": "unhashable type: 'dict'",
     "output_type": "error",
     "traceback": [
      "\u001b[0;31m---------------------------------------------------------------------------\u001b[0m",
      "\u001b[0;31mTypeError\u001b[0m                                 Traceback (most recent call last)",
      "Cell \u001b[0;32mIn[4], line 1\u001b[0m\n\u001b[0;32m----> 1\u001b[0m n \u001b[38;5;241m=\u001b[39m {{\u001b[38;5;124m'\u001b[39m\u001b[38;5;124ma\u001b[39m\u001b[38;5;124m'\u001b[39m : {\u001b[38;5;124m'\u001b[39m\u001b[38;5;124mIs_profitable\u001b[39m\u001b[38;5;124m'\u001b[39m : \u001b[38;5;124m'\u001b[39m\u001b[38;5;124mT\u001b[39m\u001b[38;5;124m'\u001b[39m, \u001b[38;5;124m'\u001b[39m\u001b[38;5;124mLow_fuel_price\u001b[39m\u001b[38;5;124m'\u001b[39m : \u001b[38;5;124m'\u001b[39m\u001b[38;5;124mT\u001b[39m\u001b[38;5;124m'\u001b[39m, \u001b[38;5;124m'\u001b[39m\u001b[38;5;124mUser_satisfaction\u001b[39m\u001b[38;5;124m'\u001b[39m : \u001b[38;5;124m'\u001b[39m\u001b[38;5;124mT\u001b[39m\u001b[38;5;124m'\u001b[39m}},\n\u001b[1;32m      2\u001b[0m      {\u001b[38;5;124m'\u001b[39m\u001b[38;5;124mb\u001b[39m\u001b[38;5;124m'\u001b[39m : {\u001b[38;5;124m'\u001b[39m\u001b[38;5;124mIs_profitable\u001b[39m\u001b[38;5;124m'\u001b[39m : \u001b[38;5;124m'\u001b[39m\u001b[38;5;124mF\u001b[39m\u001b[38;5;124m'\u001b[39m, \u001b[38;5;124m'\u001b[39m\u001b[38;5;124mLow_fuel_price\u001b[39m\u001b[38;5;124m'\u001b[39m : \u001b[38;5;124m'\u001b[39m\u001b[38;5;124mF\u001b[39m\u001b[38;5;124m'\u001b[39m, \u001b[38;5;124m'\u001b[39m\u001b[38;5;124mUser_satisfaction\u001b[39m\u001b[38;5;124m'\u001b[39m : \u001b[38;5;124m'\u001b[39m\u001b[38;5;124mT\u001b[39m\u001b[38;5;124m'\u001b[39m}},\n\u001b[1;32m      3\u001b[0m      {\u001b[38;5;124m'\u001b[39m\u001b[38;5;124mc\u001b[39m\u001b[38;5;124m'\u001b[39m : {\u001b[38;5;124m'\u001b[39m\u001b[38;5;124mIs_profitable\u001b[39m\u001b[38;5;124m'\u001b[39m : \u001b[38;5;124m'\u001b[39m\u001b[38;5;124mT\u001b[39m\u001b[38;5;124m'\u001b[39m, \u001b[38;5;124m'\u001b[39m\u001b[38;5;124mLow_fuel_price\u001b[39m\u001b[38;5;124m'\u001b[39m : \u001b[38;5;124m'\u001b[39m\u001b[38;5;124mF\u001b[39m\u001b[38;5;124m'\u001b[39m, \u001b[38;5;124m'\u001b[39m\u001b[38;5;124mUser_satisfaction\u001b[39m\u001b[38;5;124m'\u001b[39m : \u001b[38;5;124m'\u001b[39m\u001b[38;5;124mF\u001b[39m\u001b[38;5;124m'\u001b[39m}},\n\u001b[1;32m      4\u001b[0m      {\u001b[38;5;124m'\u001b[39m\u001b[38;5;124md\u001b[39m\u001b[38;5;124m'\u001b[39m : {\u001b[38;5;124m'\u001b[39m\u001b[38;5;124mIs_profitable\u001b[39m\u001b[38;5;124m'\u001b[39m : \u001b[38;5;124m'\u001b[39m\u001b[38;5;124mF\u001b[39m\u001b[38;5;124m'\u001b[39m, \u001b[38;5;124m'\u001b[39m\u001b[38;5;124mLow_fuel_price\u001b[39m\u001b[38;5;124m'\u001b[39m : \u001b[38;5;124m'\u001b[39m\u001b[38;5;124mF\u001b[39m\u001b[38;5;124m'\u001b[39m, \u001b[38;5;124m'\u001b[39m\u001b[38;5;124mUser_satisfaction\u001b[39m\u001b[38;5;124m'\u001b[39m : \u001b[38;5;124m'\u001b[39m\u001b[38;5;124mT\u001b[39m\u001b[38;5;124m'\u001b[39m}}}\n",
      "\u001b[0;31mTypeError\u001b[0m: unhashable type: 'dict'"
     ]
    }
   ],
   "source": [
    "n = {{'a' : {'Is_profitable' : 'T', 'Low_fuel_price' : 'T', 'User_satisfaction' : 'T'}},\n",
    "     {'b' : {'Is_profitable' : 'F', 'Low_fuel_price' : 'F', 'User_satisfaction' : 'T'}},\n",
    "     {'c' : {'Is_profitable' : 'T', 'Low_fuel_price' : 'F', 'User_satisfaction' : 'F'}},\n",
    "     {'d' : {'Is_profitable' : 'F', 'Low_fuel_price' : 'F', 'User_satisfaction' : 'T'}}}\n"
   ]
  },
  {
   "cell_type": "code",
   "execution_count": 9,
   "id": "20691e9b",
   "metadata": {},
   "outputs": [],
   "source": [
    "n = {'a' : {'Is_profitable' : True, 'Low_fuel_price' : True, 'User_satisfaction' : True},\n",
    "     'b' : {'Is_profitable' : False, 'Low_fuel_price' : False, 'User_satisfaction' : True},\n",
    "     'c' : {'Is_profitable' : True, 'Low_fuel_price' : False, 'User_satisfaction' : False},\n",
    "     'd' : {'Is_profitable' : False, 'Low_fuel_price' : False, 'User_satisfaction' : True}}\n",
    "e = {'a' : {'Is_profitable' : False, 'Low_fuel_price' : False, 'User_satisfaction' : False},\n",
    "     'b' : {'Is_profitable' : True, 'Low_fuel_price' : True, 'User_satisfaction' : False},\n",
    "     'c' : {'Is_profitable' : True, 'Low_fuel_price' : False, 'User_satisfaction' : False},\n",
    "     'd' : {'Is_profitable' : True, 'Low_fuel_price' : True, 'User_satisfaction' : True}}\n",
    "w = {'a' : {'Is_profitable' : False, 'Low_fuel_price' : True, 'User_satisfaction' : False},\n",
    "     'b' : {'Is_profitable' : False, 'Low_fuel_price' : False, 'User_satisfaction' : True},\n",
    "     'c' : {'Is_profitable' : False, 'Low_fuel_price' : True, 'User_satisfaction' : False},\n",
    "     'd' : {'Is_profitable' : False, 'Low_fuel_price' : True, 'User_satisfaction' : True}}\n",
    "s = {'a' : {'Is_profitable' : True, 'Low_fuel_price' : True, 'User_satisfaction' : False},\n",
    "     'b' : {'Is_profitable' : True, 'Low_fuel_price' : False, 'User_satisfaction' : True},\n",
    "     'c' : {'Is_profitable' : True, 'Low_fuel_price' : False, 'User_satisfaction' : False},\n",
    "     'd' : {'Is_profitable' : False, 'Low_fuel_price' : False, 'User_satisfaction' : False}}"
   ]
  },
  {
   "cell_type": "code",
   "execution_count": 21,
   "id": "90fc0704",
   "metadata": {},
   "outputs": [],
   "source": [
    "def func(station):\n",
    "    for itr in station.keys():\n",
    "        if station[itr]['Is_profitable'] and station[itr]['Low_fuel_price'] or station[itr]['User_satisfaction']:\n",
    "            station['e'] = {'Is_profitable' : False, 'Low_fuel_price' : False, 'User_satisfaction' : False}\n",
    "            station['f'] = {'Is_profitable' : False, 'Low_fuel_price' : False, 'User_satisfaction' : False}\n",
    "            break\n",
    "    return station"
   ]
  },
  {
   "cell_type": "code",
   "execution_count": 17,
   "id": "28f84019",
   "metadata": {},
   "outputs": [],
   "source": [
    "n=func(n)"
   ]
  },
  {
   "cell_type": "code",
   "execution_count": 18,
   "id": "6b39f056",
   "metadata": {},
   "outputs": [
    {
     "name": "stdout",
     "output_type": "stream",
     "text": [
      "{'a': {'Is_profitable': True, 'Low_fuel_price': True, 'User_satisfaction': True}, 'b': {'Is_profitable': False, 'Low_fuel_price': False, 'User_satisfaction': True}, 'c': {'Is_profitable': True, 'Low_fuel_price': False, 'User_satisfaction': False}, 'd': {'Is_profitable': False, 'Low_fuel_price': False, 'User_satisfaction': False}, 'e': {'Is_profitable': False, 'Low_fuel_price': False, 'User_satisfaction': False}, 'f': {'Is_profitable': False, 'Low_fuel_price': False, 'User_satisfaction': False}}\n"
     ]
    }
   ],
   "source": [
    "print(n)"
   ]
  },
  {
   "cell_type": "code",
   "execution_count": 19,
   "id": "55f7f3b6",
   "metadata": {},
   "outputs": [],
   "source": [
    "s=func(s)\n"
   ]
  },
  {
   "cell_type": "code",
   "execution_count": 20,
   "id": "c3284be3",
   "metadata": {},
   "outputs": [
    {
     "name": "stdout",
     "output_type": "stream",
     "text": [
      "{'a': {'Is_profitable': True, 'Low_fuel_price': True, 'User_satisfaction': False}, 'b': {'Is_profitable': True, 'Low_fuel_price': False, 'User_satisfaction': True}, 'c': {'Is_profitable': True, 'Low_fuel_price': False, 'User_satisfaction': False}, 'd': {'Is_profitable': False, 'Low_fuel_price': False, 'User_satisfaction': False}}\n"
     ]
    }
   ],
   "source": [
    "print(s)"
   ]
  },
  {
   "cell_type": "code",
   "execution_count": 22,
   "id": "1fae59fc",
   "metadata": {},
   "outputs": [
    {
     "name": "stdout",
     "output_type": "stream",
     "text": [
      "My name is Alice and I am 30 years old\n"
     ]
    }
   ],
   "source": [
    "name='Alice'\n",
    "age=30\n",
    "fstring = 'My name is {} and I am {} years old'.format(name,age)\n",
    "print(fstring)"
   ]
  },
  {
   "cell_type": "code",
   "execution_count": 23,
   "id": "ed91fb68",
   "metadata": {},
   "outputs": [
    {
     "name": "stdout",
     "output_type": "stream",
     "text": [
      "(1, 'a')\n",
      "(2, 'b')\n",
      "(3, 'c')\n"
     ]
    }
   ],
   "source": [
    "list1=[1,2,3]\n",
    "list2=['a','b','c']\n",
    "zipped=zip(list1,list2)\n",
    "for itr in zipped:\n",
    "    print(itr)"
   ]
  },
  {
   "cell_type": "code",
   "execution_count": null,
   "id": "4fbc1e96",
   "metadata": {},
   "outputs": [],
   "source": []
  }
 ],
 "metadata": {
  "kernelspec": {
   "display_name": "Python 3 (ipykernel)",
   "language": "python",
   "name": "python3"
  },
  "language_info": {
   "codemirror_mode": {
    "name": "ipython",
    "version": 3
   },
   "file_extension": ".py",
   "mimetype": "text/x-python",
   "name": "python",
   "nbconvert_exporter": "python",
   "pygments_lexer": "ipython3",
   "version": "3.11.4"
  }
 },
 "nbformat": 4,
 "nbformat_minor": 5
}
