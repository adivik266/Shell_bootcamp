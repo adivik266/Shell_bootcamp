{
 "cells": [
  {
   "cell_type": "code",
   "execution_count": 5,
   "id": "86eca738",
   "metadata": {},
   "outputs": [
    {
     "name": "stdout",
     "output_type": "stream",
     "text": [
      "Gas Volume :  4.009301579664823 m^3\n"
     ]
    }
   ],
   "source": [
    "def volume(p,t):\n",
    "    \"\"\"\n",
    "    09/19/2023 - Aditya V\n",
    "    Calculate the volume of a gas using the ideal gas law\n",
    "    Args:\n",
    "        pressure (float): Pressure in pascals (Pa).\n",
    "        temperature (float): Temperature in Kelvin (K).\n",
    "        gas_constant (float): Gas constant for the specified gas.\n",
    "    Returns:\n",
    "        float: Volume in cubic meters (m^3)\n",
    "    \"\"\"\n",
    "    return (p*1.0)/(t*8.314)\n",
    "\n",
    "gas_vol=volume(10000,300)\n",
    "print(f\"Gas Volume :  {gas_vol} m^3\")"
   ]
  },
  {
   "cell_type": "code",
   "execution_count": 6,
   "id": "3c5a467c",
   "metadata": {},
   "outputs": [
    {
     "name": "stdout",
     "output_type": "stream",
     "text": [
      "Gas Mass :  40.093015796648224 g\n"
     ]
    }
   ],
   "source": [
    "def mass_of_gas(pressure,temp,molar_mass):\n",
    "    \"\"\"\n",
    "    09/19/2023 - Aditya V\n",
    "    Calculate the mass of a gas\n",
    "    Args:\n",
    "        pressure (float): Pressure in pascals (Pa).\n",
    "        temperature (float): Temperature in Kelvin (K).\n",
    "        gas_constant (float): Gas constant for the specified gas.\n",
    "        volume (float): Volume in cubic meters (m^3).\n",
    "        molar mass (float): Constant in grams (g/mol).\n",
    "    Returns:\n",
    "        float: Mass in grams (g)\n",
    "    \"\"\"\n",
    "    return volume(pressure,temp)*molar_mass\n",
    "\n",
    "gas_mass=mass_of_gas(10000,300,10)\n",
    "print(f\"Gas Mass :  {gas_mass} g\")"
   ]
  },
  {
   "cell_type": "code",
   "execution_count": 7,
   "id": "b341bc98",
   "metadata": {},
   "outputs": [
    {
     "name": "stdout",
     "output_type": "stream",
     "text": [
      "120\n"
     ]
    }
   ],
   "source": [
    "def factorial(n):\n",
    "    if n==0: #base condition\n",
    "        return 1\n",
    "    else:\n",
    "        return n*factorial(n-1) #recursive call\n",
    "\n",
    "print(factorial(5))"
   ]
  },
  {
   "cell_type": "code",
   "execution_count": 8,
   "id": "fa0ecb45",
   "metadata": {},
   "outputs": [
    {
     "name": "stdout",
     "output_type": "stream",
     "text": [
      "15\n"
     ]
    }
   ],
   "source": [
    "def calculate_total_depth(segments):\n",
    "    if not segments:\n",
    "        return 0\n",
    "    else:\n",
    "        curr_seg_depth=segments[0]\n",
    "        remaining_seg=segments[1:]\n",
    "        return curr_seg_depth+calculate_total_depth(remaining_seg)\n",
    "    \n",
    "print(calculate_total_depth([1,2,3,4,5]))"
   ]
  },
  {
   "cell_type": "code",
   "execution_count": 9,
   "id": "6af1eab8",
   "metadata": {},
   "outputs": [
    {
     "name": "stdout",
     "output_type": "stream",
     "text": [
      "15\n"
     ]
    }
   ],
   "source": [
    "print(sum([1,2,3,4,5]))"
   ]
  },
  {
   "cell_type": "code",
   "execution_count": 10,
   "id": "a0142ffc",
   "metadata": {},
   "outputs": [
    {
     "name": "stdout",
     "output_type": "stream",
     "text": [
      "15\n"
     ]
    }
   ],
   "source": [
    "def calculate_total_depth(segments):\n",
    "    if not segments:\n",
    "        return 0\n",
    "    else:\n",
    "        curr_seg_depth=segments[0]\n",
    "        segments.pop(0)\n",
    "        return curr_seg_depth+calculate_total_depth(segments)\n",
    "    \n",
    "print(calculate_total_depth([1,2,3,4,5]))"
   ]
  },
  {
   "cell_type": "code",
   "execution_count": 13,
   "id": "934d1b10",
   "metadata": {},
   "outputs": [
    {
     "name": "stdout",
     "output_type": "stream",
     "text": [
      "1\n",
      "4\n",
      "9\n",
      "16\n",
      "25\n"
     ]
    }
   ],
   "source": [
    "def squares(n):\n",
    "    for i in range(1,n+1):\n",
    "        yield i**2\n",
    "        \n",
    "for i in squares(5):\n",
    "    print(i)"
   ]
  },
  {
   "cell_type": "code",
   "execution_count": 18,
   "id": "cfe34252",
   "metadata": {},
   "outputs": [
    {
     "name": "stdout",
     "output_type": "stream",
     "text": [
      "January:1000.0\n",
      "February:1000.0\n",
      "March:1000.0\n",
      "April:1000.0\n",
      "May:1000.0\n",
      "June:1000.0\n",
      "July:1000.0\n",
      "August:1000.0\n",
      "September:1000.0\n",
      "October:1000.0\n",
      "November:1000.0\n",
      "December:1000.0\n"
     ]
    }
   ],
   "source": [
    "def oil_production_m(yearly_val):\n",
    "    months=[\"January\",\"February\",\"March\",\"April\",\"May\",\"June\",\"July\",\"August\",\"September\",\"October\",\"November\",\"December\"]\n",
    "    for month in months:\n",
    "        yield month,yearly_val/12\n",
    "    \n",
    "for month,prod in oil_production_m(12000):\n",
    "    print(f\"{month}:{prod}\")"
   ]
  },
  {
   "cell_type": "code",
   "execution_count": 22,
   "id": "36bac119",
   "metadata": {},
   "outputs": [
    {
     "ename": "TypeError",
     "evalue": "my_dec.<locals>.wrapper() takes 0 positional arguments but 1 was given",
     "output_type": "error",
     "traceback": [
      "\u001b[0;31m---------------------------------------------------------------------------\u001b[0m",
      "\u001b[0;31mTypeError\u001b[0m                                 Traceback (most recent call last)",
      "Cell \u001b[0;32mIn[22], line 19\u001b[0m\n\u001b[1;32m     16\u001b[0m         remaining_seg\u001b[38;5;241m=\u001b[39msegments[\u001b[38;5;241m1\u001b[39m:]\n\u001b[1;32m     17\u001b[0m         \u001b[38;5;28;01mreturn\u001b[39;00m curr_seg_depth\u001b[38;5;241m+\u001b[39mcalculate_total_depth(remaining_seg)\n\u001b[0;32m---> 19\u001b[0m calculate_total_depth([\u001b[38;5;241m100\u001b[39m,\u001b[38;5;241m200\u001b[39m,\u001b[38;5;241m300\u001b[39m])\n",
      "\u001b[0;31mTypeError\u001b[0m: my_dec.<locals>.wrapper() takes 0 positional arguments but 1 was given"
     ]
    }
   ],
   "source": [
    "import logging\n",
    "\n",
    "def my_dec(fun):\n",
    "    def wrapper():\n",
    "        print(\"i am starting\")\n",
    "        fun()\n",
    "        print(\"i am completed\")\n",
    "    return wrapper\n",
    "\n",
    "@my_dec\n",
    "def calculate_total_depth(segments):\n",
    "    if not segments:\n",
    "        return 0\n",
    "    else:\n",
    "        curr_seg_depth=segments[0]\n",
    "        remaining_seg=segments[1:]\n",
    "        return curr_seg_depth+calculate_total_depth(remaining_seg)\n",
    "\n",
    "calculate_total_depth([100,200,300])    "
   ]
  },
  {
   "cell_type": "code",
   "execution_count": 1,
   "id": "8ded11a8",
   "metadata": {},
   "outputs": [],
   "source": [
    "class Person:\n",
    "    def __init__(self,name,age):\n",
    "        self.name=name\n",
    "        self.age=age\n",
    "        \n",
    "    def greet(self):\n",
    "        return f\"Hello, my name is {self.name} and I am {self.age} years old.\"\n",
    "    \n",
    "    def have_birthday(self):\n",
    "        self.age+=1\n",
    "        return f\"Happy Birthday to {self.name}! They are now {self.age} years old.\""
   ]
  },
  {
   "cell_type": "code",
   "execution_count": 2,
   "id": "877eaa3a",
   "metadata": {},
   "outputs": [],
   "source": [
    "abc=Person('Aditya',22)"
   ]
  },
  {
   "cell_type": "code",
   "execution_count": 3,
   "id": "9625a554",
   "metadata": {},
   "outputs": [
    {
     "name": "stdout",
     "output_type": "stream",
     "text": [
      "<__main__.Person object at 0x7f9437918490>\n"
     ]
    }
   ],
   "source": [
    "print(abc)"
   ]
  },
  {
   "cell_type": "code",
   "execution_count": 4,
   "id": "7d763d9e",
   "metadata": {},
   "outputs": [
    {
     "data": {
      "text/plain": [
       "'Aditya'"
      ]
     },
     "execution_count": 4,
     "metadata": {},
     "output_type": "execute_result"
    }
   ],
   "source": [
    "abc.name"
   ]
  },
  {
   "cell_type": "code",
   "execution_count": 5,
   "id": "cc9cec10",
   "metadata": {},
   "outputs": [
    {
     "data": {
      "text/plain": [
       "22"
      ]
     },
     "execution_count": 5,
     "metadata": {},
     "output_type": "execute_result"
    }
   ],
   "source": [
    "abc.age"
   ]
  },
  {
   "cell_type": "code",
   "execution_count": 7,
   "id": "eca045ea",
   "metadata": {},
   "outputs": [
    {
     "data": {
      "text/plain": [
       "'Hello, my name is Aditya and I am 22 years old.'"
      ]
     },
     "execution_count": 7,
     "metadata": {},
     "output_type": "execute_result"
    }
   ],
   "source": [
    "abc.greet()"
   ]
  },
  {
   "cell_type": "code",
   "execution_count": 8,
   "id": "4d6e25f7",
   "metadata": {},
   "outputs": [
    {
     "data": {
      "text/plain": [
       "'Happy Birthday to Aditya! They are now 23 years old.'"
      ]
     },
     "execution_count": 8,
     "metadata": {},
     "output_type": "execute_result"
    }
   ],
   "source": [
    "abc.have_birthday()"
   ]
  },
  {
   "cell_type": "code",
   "execution_count": 9,
   "id": "e63ed98b",
   "metadata": {},
   "outputs": [
    {
     "data": {
      "text/plain": [
       "23"
      ]
     },
     "execution_count": 9,
     "metadata": {},
     "output_type": "execute_result"
    }
   ],
   "source": [
    "abc.age"
   ]
  },
  {
   "cell_type": "code",
   "execution_count": 10,
   "id": "674a4c3c",
   "metadata": {},
   "outputs": [
    {
     "name": "stdout",
     "output_type": "stream",
     "text": [
      "1695113117.526279\n"
     ]
    }
   ],
   "source": [
    "import time\n",
    "\n",
    "curr_timestamp=time.time()\n",
    "print(curr_timestamp)"
   ]
  },
  {
   "cell_type": "code",
   "execution_count": 11,
   "id": "a0d3e936",
   "metadata": {},
   "outputs": [
    {
     "name": "stdout",
     "output_type": "stream",
     "text": [
      "2.0\n"
     ]
    }
   ],
   "source": [
    "a=10\n",
    "b=5\n",
    "try:\n",
    "    result=a/b\n",
    "    print(result)\n",
    "except:\n",
    "    print(\"Error : Someone divided by zero\")"
   ]
  },
  {
   "cell_type": "code",
   "execution_count": 12,
   "id": "6531882c",
   "metadata": {},
   "outputs": [
    {
     "name": "stdout",
     "output_type": "stream",
     "text": [
      "Error : Someone divided by zero\n"
     ]
    }
   ],
   "source": [
    "a=10\n",
    "b=0\n",
    "try:\n",
    "    result=a/b\n",
    "    print(result)\n",
    "except:\n",
    "    print(\"Error : Someone divided by zero\")"
   ]
  },
  {
   "cell_type": "code",
   "execution_count": 13,
   "id": "89835433",
   "metadata": {},
   "outputs": [
    {
     "name": "stdout",
     "output_type": "stream",
     "text": [
      "[1, 4, 9, 16, 25]\n"
     ]
    }
   ],
   "source": [
    "a=[]\n",
    "for i in range(1,6):\n",
    "    a.append(i**2)\n",
    "print(a)"
   ]
  },
  {
   "cell_type": "code",
   "execution_count": 14,
   "id": "d8380c4f",
   "metadata": {},
   "outputs": [
    {
     "name": "stdout",
     "output_type": "stream",
     "text": [
      "[1, 4, 9, 16, 25]\n"
     ]
    }
   ],
   "source": [
    "a=[i**2 for i in range(1,6)]\n",
    "print(a)"
   ]
  },
  {
   "cell_type": "code",
   "execution_count": 15,
   "id": "e8227524",
   "metadata": {},
   "outputs": [
    {
     "name": "stdout",
     "output_type": "stream",
     "text": [
      "[2, 4, 6, 8]\n"
     ]
    }
   ],
   "source": [
    "even=[]\n",
    "for i in range(1,10):\n",
    "    if i%2==0:\n",
    "        even.append(i)\n",
    "print(even)"
   ]
  },
  {
   "cell_type": "code",
   "execution_count": 16,
   "id": "ddbe1d38",
   "metadata": {},
   "outputs": [
    {
     "name": "stdout",
     "output_type": "stream",
     "text": [
      "[2, 4, 6, 8]\n"
     ]
    }
   ],
   "source": [
    "even=[i for i in range(1,10) if i%2==0]\n",
    "print(even)"
   ]
  },
  {
   "cell_type": "code",
   "execution_count": 17,
   "id": "62fc2342",
   "metadata": {},
   "outputs": [
    {
     "data": {
      "text/plain": [
       "<function __main__.<lambda>(args)>"
      ]
     },
     "execution_count": 17,
     "metadata": {},
     "output_type": "execute_result"
    }
   ],
   "source": [
    "lambda args:expr"
   ]
  },
  {
   "cell_type": "code",
   "execution_count": 19,
   "id": "f0009b37",
   "metadata": {},
   "outputs": [],
   "source": [
    "add = lambda a,b:a+b"
   ]
  },
  {
   "cell_type": "code",
   "execution_count": 20,
   "id": "31e6a4b7",
   "metadata": {},
   "outputs": [
    {
     "name": "stdout",
     "output_type": "stream",
     "text": [
      "11\n"
     ]
    }
   ],
   "source": [
    "print(add(5,6))"
   ]
  },
  {
   "cell_type": "code",
   "execution_count": null,
   "id": "8c4a7a41",
   "metadata": {},
   "outputs": [],
   "source": []
  }
 ],
 "metadata": {
  "kernelspec": {
   "display_name": "Python 3 (ipykernel)",
   "language": "python",
   "name": "python3"
  },
  "language_info": {
   "codemirror_mode": {
    "name": "ipython",
    "version": 3
   },
   "file_extension": ".py",
   "mimetype": "text/x-python",
   "name": "python",
   "nbconvert_exporter": "python",
   "pygments_lexer": "ipython3",
   "version": "3.11.4"
  }
 },
 "nbformat": 4,
 "nbformat_minor": 5
}
